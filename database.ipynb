{
 "cells": [
  {
   "cell_type": "code",
   "execution_count": 2,
   "metadata": {},
   "outputs": [
    {
     "data": {
      "text/plain": [
       "110599"
      ]
     },
     "execution_count": 2,
     "metadata": {},
     "output_type": "execute_result"
    }
   ],
   "source": [
    "import sqlite3\n",
    "import pandas as pd\n",
    "\n",
    "# Load the dataset\n",
    "file_path = 'data/diabetes_binary_health_indicators_BRFSS2023.csv'\n",
    "df_new = pd.read_csv(file_path)\n",
    "\n",
    "# Create an SQLite database and save the dataset\n",
    "conn = sqlite3.connect('diabetes_data.db')  # Creates a file-based SQLite database\n",
    "df_new.to_sql('diabetes_data', conn, if_exists='replace', index=False)\n"
   ]
  },
  {
   "cell_type": "code",
   "execution_count": 3,
   "metadata": {},
   "outputs": [
    {
     "name": "stdout",
     "output_type": "stream",
     "text": [
      "   Diabetes_binary  HighBP  HighChol  CholCheck   BMI  Smoker  Stroke  \\\n",
      "0              0.0     1.0       1.0        0.0  22.0     1.0     0.0   \n",
      "1              0.0     1.0       0.0        0.0  26.0     0.0     0.0   \n",
      "2              0.0     1.0       1.0        0.0  30.0     0.0     0.0   \n",
      "3              0.0     1.0       1.0        0.0  33.0     0.0     0.0   \n",
      "4              0.0     1.0       1.0        0.0  23.0     1.0     0.0   \n",
      "\n",
      "   HeartDiseaseorAttack  PhysActivity  HvyAlcoholConsump  AnyHealthcare  \\\n",
      "0                   0.0           1.0                0.0            1.0   \n",
      "1                   0.0           1.0                0.0            1.0   \n",
      "2                   0.0           1.0                0.0            1.0   \n",
      "3                   0.0           0.0                0.0            1.0   \n",
      "4                   1.0           1.0                0.0            1.0   \n",
      "\n",
      "   NoDocbcCost  GenHlth  MentHlth  PhysHlth  DiffWalk  Sex   Age  Education  \\\n",
      "0          1.0      4.0       2.0       6.0       1.0  0.0  13.0        4.0   \n",
      "1          0.0      4.0       0.0       0.0       1.0  0.0  12.0        5.0   \n",
      "2          0.0      3.0       3.0       2.0       0.0  0.0   9.0        5.0   \n",
      "3          0.0      3.0       0.0       5.0       1.0  0.0  13.0        5.0   \n",
      "4          0.0      3.0       0.0       0.0       0.0  1.0  12.0        4.0   \n",
      "\n",
      "   Income  \n",
      "0     2.0  \n",
      "1     7.0  \n",
      "2     7.0  \n",
      "3     6.0  \n",
      "4     7.0  \n"
     ]
    }
   ],
   "source": [
    "# Query data from the SQL database\n",
    "query = \"SELECT * FROM diabetes_data\"\n",
    "df_sql = pd.read_sql_query(query, conn)\n",
    "\n",
    "# Display the first few rows to verify\n",
    "print(df_sql.head())\n"
   ]
  },
  {
   "cell_type": "code",
   "execution_count": 4,
   "metadata": {},
   "outputs": [
    {
     "name": "stdout",
     "output_type": "stream",
     "text": [
      "Accuracy: 0.9204339963833634\n",
      "Classification Report:\n",
      "              precision    recall  f1-score   support\n",
      "\n",
      "         0.0       0.97      0.95      0.96     32085\n",
      "         1.0       0.09      0.02      0.03       843\n",
      "         2.0       0.03      0.21      0.06       252\n",
      "\n",
      "    accuracy                           0.92     33180\n",
      "   macro avg       0.36      0.39      0.35     33180\n",
      "weighted avg       0.94      0.92      0.93     33180\n",
      "\n"
     ]
    }
   ],
   "source": [
    "from sklearn.model_selection import train_test_split\n",
    "from sklearn.preprocessing import StandardScaler\n",
    "from sklearn.ensemble import GradientBoostingClassifier\n",
    "from sklearn.metrics import accuracy_score, classification_report\n",
    "from imblearn.over_sampling import SMOTE\n",
    "\n",
    "# Separate features and target variable\n",
    "X_new = df_sql.drop(columns=['Diabetes_binary'])\n",
    "y_new = df_sql['Diabetes_binary']\n",
    "\n",
    "# Normalize and standardize the features\n",
    "scaler = StandardScaler()\n",
    "X_new_scaled = scaler.fit_transform(X_new)\n",
    "\n",
    "# Train-test split\n",
    "X_train_new, X_test_new, y_train_new, y_test_new = train_test_split(X_new_scaled, y_new, test_size=0.3, random_state=42)\n",
    "\n",
    "# Apply SMOTE to balance the dataset\n",
    "smote = SMOTE(random_state=42)\n",
    "X_train_smote, y_train_smote = smote.fit_resample(X_train_new, y_train_new)\n",
    "\n",
    "# Initialize and train the Gradient Boosting Classifier\n",
    "gb_model_smote = GradientBoostingClassifier(random_state=42, n_estimators=100, learning_rate=0.1, max_depth=3)\n",
    "gb_model_smote.fit(X_train_smote, y_train_smote)\n",
    "\n",
    "# Make predictions\n",
    "gb_y_pred_smote = gb_model_smote.predict(X_test_new)\n",
    "\n",
    "# Evaluate the model\n",
    "gb_accuracy_smote = accuracy_score(y_test_new, gb_y_pred_smote)\n",
    "gb_classification_report_smote = classification_report(y_test_new, gb_y_pred_smote)\n",
    "\n",
    "# Print the results\n",
    "print(f\"Accuracy: {gb_accuracy_smote}\")\n",
    "print(\"Classification Report:\")\n",
    "print(gb_classification_report_smote)\n"
   ]
  },
  {
   "cell_type": "code",
   "execution_count": null,
   "metadata": {},
   "outputs": [],
   "source": []
  }
 ],
 "metadata": {
  "kernelspec": {
   "display_name": "DataViz2",
   "language": "python",
   "name": "python3"
  },
  "language_info": {
   "codemirror_mode": {
    "name": "ipython",
    "version": 3
   },
   "file_extension": ".py",
   "mimetype": "text/x-python",
   "name": "python",
   "nbconvert_exporter": "python",
   "pygments_lexer": "ipython3",
   "version": "3.11.9"
  }
 },
 "nbformat": 4,
 "nbformat_minor": 2
}
