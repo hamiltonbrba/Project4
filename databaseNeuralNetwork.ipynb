{
 "cells": [
  {
   "cell_type": "code",
   "execution_count": 2,
   "metadata": {},
   "outputs": [
    {
     "data": {
      "text/plain": [
       "16944"
      ]
     },
     "execution_count": 2,
     "metadata": {},
     "output_type": "execute_result"
    }
   ],
   "source": [
    "import sqlite3\n",
    "import pandas as pd\n",
    "\n",
    "# Load the dataset\n",
    "file_path = 'data/diabetes_binary_5050split_health_indicators_BRFSS2023.csv'\n",
    "df_new = pd.read_csv(file_path)\n",
    "\n",
    "# Create an SQLite database and save the dataset\n",
    "conn = sqlite3.connect('diabetes_data.db')  # Creates a file-based SQLite database\n",
    "df_new.to_sql('diabetes_data', conn, if_exists='replace', index=False)\n"
   ]
  },
  {
   "cell_type": "code",
   "execution_count": 3,
   "metadata": {},
   "outputs": [
    {
     "name": "stdout",
     "output_type": "stream",
     "text": [
      "   Diabetes_binary  HighBP  HighChol  CholCheck   BMI  Smoker  Stroke  \\\n",
      "0              0.0     0.0       1.0        0.0  25.0     1.0     0.0   \n",
      "1              0.0     0.0       0.0        4.0  23.0     0.0     0.0   \n",
      "2              0.0     1.0       1.0        0.0  33.0     1.0     0.0   \n",
      "3              0.0     1.0       0.0        0.0  31.0     0.0     0.0   \n",
      "4              0.0     0.0       0.0        0.0  25.0     0.0     0.0   \n",
      "\n",
      "   HeartDiseaseorAttack  PhysActivity  HvyAlcoholConsump  AnyHealthcare  \\\n",
      "0                   0.0           1.0                0.0            1.0   \n",
      "1                   0.0           1.0                0.0            1.0   \n",
      "2                   0.0           1.0                1.0            1.0   \n",
      "3                   0.0           0.0                0.0            1.0   \n",
      "4                   0.0           1.0                0.0            1.0   \n",
      "\n",
      "   NoDocbcCost  GenHlth  MentHlth  PhysHlth  DiffWalk  Sex   Age  Education  \\\n",
      "0          0.0      2.0       0.0       0.0       0.0  1.0  12.0        6.0   \n",
      "1          0.0      1.0       2.0       0.0       0.0  0.0   3.0        5.0   \n",
      "2          0.0      4.0       0.0       0.0       1.0  1.0  11.0        4.0   \n",
      "3          0.0      5.0       2.0       6.0       0.0  0.0  11.0        6.0   \n",
      "4          0.0      3.0       0.0       0.0       0.0  1.0  10.0        6.0   \n",
      "\n",
      "   Income  \n",
      "0    11.0  \n",
      "1     5.0  \n",
      "2     7.0  \n",
      "3     7.0  \n",
      "4     7.0  \n"
     ]
    }
   ],
   "source": [
    "# Query data from the SQL database\n",
    "query = \"SELECT * FROM diabetes_data\"\n",
    "df_sql = pd.read_sql_query(query, conn)\n",
    "\n",
    "# Display the first few rows to verify\n",
    "print(df_sql.head())\n"
   ]
  },
  {
   "cell_type": "code",
   "execution_count": 4,
   "metadata": {},
   "outputs": [
    {
     "name": "stdout",
     "output_type": "stream",
     "text": [
      "Epoch 1/20\n"
     ]
    },
    {
     "name": "stderr",
     "output_type": "stream",
     "text": [
      "c:\\Users\\Bryan Hamilton-Brown\\anaconda3\\envs\\DataViz2\\Lib\\site-packages\\keras\\src\\layers\\core\\dense.py:87: UserWarning: Do not pass an `input_shape`/`input_dim` argument to a layer. When using Sequential models, prefer using an `Input(shape)` object as the first layer in the model instead.\n",
      "  super().__init__(activity_regularizer=activity_regularizer, **kwargs)\n"
     ]
    },
    {
     "name": "stdout",
     "output_type": "stream",
     "text": [
      "\u001b[1m552/552\u001b[0m \u001b[32m━━━━━━━━━━━━━━━━━━━━\u001b[0m\u001b[37m\u001b[0m \u001b[1m1s\u001b[0m 1ms/step - accuracy: 0.5046 - loss: 0.9990 - val_accuracy: 0.4099 - val_loss: 1.1440\n",
      "Epoch 2/20\n",
      "\u001b[1m552/552\u001b[0m \u001b[32m━━━━━━━━━━━━━━━━━━━━\u001b[0m\u001b[37m\u001b[0m \u001b[1m0s\u001b[0m 790us/step - accuracy: 0.5667 - loss: 0.8678 - val_accuracy: 0.4105 - val_loss: 1.2173\n",
      "Epoch 3/20\n",
      "\u001b[1m552/552\u001b[0m \u001b[32m━━━━━━━━━━━━━━━━━━━━\u001b[0m\u001b[37m\u001b[0m \u001b[1m0s\u001b[0m 826us/step - accuracy: 0.5797 - loss: 0.8322 - val_accuracy: 0.4131 - val_loss: 1.2359\n",
      "Epoch 4/20\n",
      "\u001b[1m552/552\u001b[0m \u001b[32m━━━━━━━━━━━━━━━━━━━━\u001b[0m\u001b[37m\u001b[0m \u001b[1m0s\u001b[0m 828us/step - accuracy: 0.5970 - loss: 0.8031 - val_accuracy: 0.4508 - val_loss: 1.1593\n",
      "Epoch 5/20\n",
      "\u001b[1m552/552\u001b[0m \u001b[32m━━━━━━━━━━━━━━━━━━━━\u001b[0m\u001b[37m\u001b[0m \u001b[1m0s\u001b[0m 774us/step - accuracy: 0.6096 - loss: 0.7629 - val_accuracy: 0.4386 - val_loss: 1.2082\n",
      "Epoch 6/20\n",
      "\u001b[1m552/552\u001b[0m \u001b[32m━━━━━━━━━━━━━━━━━━━━\u001b[0m\u001b[37m\u001b[0m \u001b[1m0s\u001b[0m 774us/step - accuracy: 0.6338 - loss: 0.7212 - val_accuracy: 0.4422 - val_loss: 1.2133\n",
      "Epoch 7/20\n",
      "\u001b[1m552/552\u001b[0m \u001b[32m━━━━━━━━━━━━━━━━━━━━\u001b[0m\u001b[37m\u001b[0m \u001b[1m0s\u001b[0m 846us/step - accuracy: 0.6375 - loss: 0.7090 - val_accuracy: 0.4744 - val_loss: 1.1140\n",
      "Epoch 8/20\n",
      "\u001b[1m552/552\u001b[0m \u001b[32m━━━━━━━━━━━━━━━━━━━━\u001b[0m\u001b[37m\u001b[0m \u001b[1m0s\u001b[0m 804us/step - accuracy: 0.6513 - loss: 0.6823 - val_accuracy: 0.4701 - val_loss: 1.1823\n",
      "Epoch 9/20\n",
      "\u001b[1m552/552\u001b[0m \u001b[32m━━━━━━━━━━━━━━━━━━━━\u001b[0m\u001b[37m\u001b[0m \u001b[1m0s\u001b[0m 805us/step - accuracy: 0.6531 - loss: 0.6693 - val_accuracy: 0.4614 - val_loss: 1.1969\n",
      "Epoch 10/20\n",
      "\u001b[1m552/552\u001b[0m \u001b[32m━━━━━━━━━━━━━━━━━━━━\u001b[0m\u001b[37m\u001b[0m \u001b[1m0s\u001b[0m 781us/step - accuracy: 0.6655 - loss: 0.6416 - val_accuracy: 0.4640 - val_loss: 1.2993\n",
      "Epoch 11/20\n",
      "\u001b[1m552/552\u001b[0m \u001b[32m━━━━━━━━━━━━━━━━━━━━\u001b[0m\u001b[37m\u001b[0m \u001b[1m0s\u001b[0m 821us/step - accuracy: 0.6827 - loss: 0.6088 - val_accuracy: 0.4921 - val_loss: 1.1245\n",
      "Epoch 12/20\n",
      "\u001b[1m552/552\u001b[0m \u001b[32m━━━━━━━━━━━━━━━━━━━━\u001b[0m\u001b[37m\u001b[0m \u001b[1m0s\u001b[0m 785us/step - accuracy: 0.6837 - loss: 0.6086 - val_accuracy: 0.4910 - val_loss: 1.1677\n",
      "Epoch 13/20\n",
      "\u001b[1m552/552\u001b[0m \u001b[32m━━━━━━━━━━━━━━━━━━━━\u001b[0m\u001b[37m\u001b[0m \u001b[1m0s\u001b[0m 784us/step - accuracy: 0.6893 - loss: 0.5928 - val_accuracy: 0.5037 - val_loss: 1.1533\n",
      "Epoch 14/20\n",
      "\u001b[1m552/552\u001b[0m \u001b[32m━━━━━━━━━━━━━━━━━━━━\u001b[0m\u001b[37m\u001b[0m \u001b[1m0s\u001b[0m 767us/step - accuracy: 0.6948 - loss: 0.5822 - val_accuracy: 0.4898 - val_loss: 1.1971\n",
      "Epoch 15/20\n",
      "\u001b[1m552/552\u001b[0m \u001b[32m━━━━━━━━━━━━━━━━━━━━\u001b[0m\u001b[37m\u001b[0m \u001b[1m0s\u001b[0m 819us/step - accuracy: 0.6960 - loss: 0.5830 - val_accuracy: 0.4880 - val_loss: 1.2697\n",
      "Epoch 16/20\n",
      "\u001b[1m552/552\u001b[0m \u001b[32m━━━━━━━━━━━━━━━━━━━━\u001b[0m\u001b[37m\u001b[0m \u001b[1m0s\u001b[0m 795us/step - accuracy: 0.7110 - loss: 0.5381 - val_accuracy: 0.4980 - val_loss: 1.2350\n",
      "Epoch 17/20\n",
      "\u001b[1m552/552\u001b[0m \u001b[32m━━━━━━━━━━━━━━━━━━━━\u001b[0m\u001b[37m\u001b[0m \u001b[1m0s\u001b[0m 815us/step - accuracy: 0.7221 - loss: 0.5301 - val_accuracy: 0.4790 - val_loss: 1.2878\n",
      "Epoch 18/20\n",
      "\u001b[1m552/552\u001b[0m \u001b[32m━━━━━━━━━━━━━━━━━━━━\u001b[0m\u001b[37m\u001b[0m \u001b[1m0s\u001b[0m 790us/step - accuracy: 0.7082 - loss: 0.5445 - val_accuracy: 0.4849 - val_loss: 1.3191\n",
      "Epoch 19/20\n",
      "\u001b[1m552/552\u001b[0m \u001b[32m━━━━━━━━━━━━━━━━━━━━\u001b[0m\u001b[37m\u001b[0m \u001b[1m0s\u001b[0m 801us/step - accuracy: 0.7136 - loss: 0.5385 - val_accuracy: 0.4862 - val_loss: 1.2761\n",
      "Epoch 20/20\n",
      "\u001b[1m552/552\u001b[0m \u001b[32m━━━━━━━━━━━━━━━━━━━━\u001b[0m\u001b[37m\u001b[0m \u001b[1m0s\u001b[0m 809us/step - accuracy: 0.7207 - loss: 0.5118 - val_accuracy: 0.4921 - val_loss: 1.3375\n",
      "\u001b[1m159/159\u001b[0m \u001b[32m━━━━━━━━━━━━━━━━━━━━\u001b[0m\u001b[37m\u001b[0m \u001b[1m0s\u001b[0m 718us/step\n",
      "Classification Report:\n",
      "              precision    recall  f1-score   support\n",
      "\n",
      "         0.0       0.64      0.43      0.51      2591\n",
      "         1.0       0.51      0.53      0.52      1946\n",
      "         2.0       0.27      0.65      0.38       547\n",
      "\n",
      "    accuracy                           0.49      5084\n",
      "   macro avg       0.47      0.54      0.47      5084\n",
      "weighted avg       0.55      0.49      0.50      5084\n",
      "\n"
     ]
    }
   ],
   "source": [
    "import numpy as np\n",
    "import pandas as pd\n",
    "from imblearn.over_sampling import SMOTE\n",
    "from sklearn.model_selection import train_test_split\n",
    "from sklearn.preprocessing import StandardScaler\n",
    "from sklearn.utils.class_weight import compute_class_weight\n",
    "from tensorflow.keras.models import Sequential\n",
    "from tensorflow.keras.layers import Dense\n",
    "from tensorflow.keras.optimizers import Adam\n",
    "from tensorflow.keras.utils import to_categorical\n",
    "from sklearn.metrics import classification_report\n",
    "\n",
    "\n",
    "# Separate features and target variable\n",
    "X = df_sql.drop(columns=['Diabetes_binary'])\n",
    "y = df_sql['Diabetes_binary']\n",
    "\n",
    "# Normalize the features\n",
    "scaler = StandardScaler()\n",
    "X_scaled = scaler.fit_transform(X)\n",
    "\n",
    "# Train-test split\n",
    "X_train, X_test, y_train, y_test = train_test_split(X_scaled, y, test_size=0.3, random_state=42)\n",
    "\n",
    "# Apply SMOTE to balance the training set\n",
    "smote = SMOTE(random_state=42)\n",
    "X_train_smote, y_train_smote = smote.fit_resample(X_train, y_train)\n",
    "\n",
    "# Convert target variable to categorical (one-hot encoding)\n",
    "y_train_smote_categorical = to_categorical(y_train_smote, num_classes=3)\n",
    "y_test_categorical = to_categorical(y_test, num_classes=3)\n",
    "\n",
    "# Compute class weights based on original distribution\n",
    "class_weights = compute_class_weight(\n",
    "    class_weight='balanced',\n",
    "    classes=np.unique(y),\n",
    "    y=y\n",
    ")\n",
    "class_weight_dict = {i: class_weights[i] for i in range(len(class_weights))}\n",
    "\n",
    "# Build the neural network\n",
    "model = Sequential([\n",
    "    Dense(128, input_dim=X_train_smote.shape[1], activation='relu'),\n",
    "    Dense(64, activation='relu'),\n",
    "    Dense(32, activation='relu'),\n",
    "    Dense(3, activation='softmax')  # 3 classes\n",
    "])\n",
    "\n",
    "# Compile the model\n",
    "model.compile(optimizer=Adam(learning_rate=0.001), loss='categorical_crossentropy', metrics=['accuracy'])\n",
    "\n",
    "# Train the model\n",
    "history = model.fit(\n",
    "    X_train_smote, y_train_smote_categorical,\n",
    "    epochs=20,\n",
    "    batch_size=32,\n",
    "    class_weight=class_weight_dict,\n",
    "    validation_data=(X_test, y_test_categorical),\n",
    "    verbose=1\n",
    ")\n",
    "\n",
    "# Evaluate the model\n",
    "y_pred = np.argmax(model.predict(X_test), axis=-1)  # Convert probabilities to class labels\n",
    "print(\"Classification Report:\")\n",
    "print(classification_report(y_test, y_pred))\n"
   ]
  },
  {
   "cell_type": "code",
   "execution_count": 6,
   "metadata": {},
   "outputs": [
    {
     "name": "stdout",
     "output_type": "stream",
     "text": [
      "Epoch 1/20\n"
     ]
    },
    {
     "name": "stderr",
     "output_type": "stream",
     "text": [
      "c:\\Users\\Bryan Hamilton-Brown\\anaconda3\\envs\\DataViz2\\Lib\\site-packages\\keras\\src\\layers\\core\\dense.py:87: UserWarning: Do not pass an `input_shape`/`input_dim` argument to a layer. When using Sequential models, prefer using an `Input(shape)` object as the first layer in the model instead.\n",
      "  super().__init__(activity_regularizer=activity_regularizer, **kwargs)\n"
     ]
    },
    {
     "name": "stdout",
     "output_type": "stream",
     "text": [
      "\u001b[1m371/371\u001b[0m \u001b[32m━━━━━━━━━━━━━━━━━━━━\u001b[0m\u001b[37m\u001b[0m \u001b[1m1s\u001b[0m 1ms/step - accuracy: 0.5253 - loss: 0.8900 - val_accuracy: 0.5645 - val_loss: 0.8152\n",
      "Epoch 2/20\n",
      "\u001b[1m371/371\u001b[0m \u001b[32m━━━━━━━━━━━━━━━━━━━━\u001b[0m\u001b[37m\u001b[0m \u001b[1m0s\u001b[0m 974us/step - accuracy: 0.5666 - loss: 0.8254 - val_accuracy: 0.5533 - val_loss: 0.8214\n",
      "Epoch 3/20\n",
      "\u001b[1m371/371\u001b[0m \u001b[32m━━━━━━━━━━━━━━━━━━━━\u001b[0m\u001b[37m\u001b[0m \u001b[1m0s\u001b[0m 899us/step - accuracy: 0.5749 - loss: 0.8071 - val_accuracy: 0.5602 - val_loss: 0.8123\n",
      "Epoch 4/20\n",
      "\u001b[1m371/371\u001b[0m \u001b[32m━━━━━━━━━━━━━━━━━━━━\u001b[0m\u001b[37m\u001b[0m \u001b[1m0s\u001b[0m 858us/step - accuracy: 0.5720 - loss: 0.8131 - val_accuracy: 0.5606 - val_loss: 0.8137\n",
      "Epoch 5/20\n",
      "\u001b[1m371/371\u001b[0m \u001b[32m━━━━━━━━━━━━━━━━━━━━\u001b[0m\u001b[37m\u001b[0m \u001b[1m0s\u001b[0m 873us/step - accuracy: 0.5900 - loss: 0.7986 - val_accuracy: 0.5624 - val_loss: 0.8139\n",
      "Epoch 6/20\n",
      "\u001b[1m371/371\u001b[0m \u001b[32m━━━━━━━━━━━━━━━━━━━━\u001b[0m\u001b[37m\u001b[0m \u001b[1m0s\u001b[0m 889us/step - accuracy: 0.5829 - loss: 0.7989 - val_accuracy: 0.5661 - val_loss: 0.8198\n",
      "Epoch 7/20\n",
      "\u001b[1m371/371\u001b[0m \u001b[32m━━━━━━━━━━━━━━━━━━━━\u001b[0m\u001b[37m\u001b[0m \u001b[1m0s\u001b[0m 917us/step - accuracy: 0.6000 - loss: 0.7859 - val_accuracy: 0.5547 - val_loss: 0.8254\n",
      "Epoch 8/20\n",
      "\u001b[1m371/371\u001b[0m \u001b[32m━━━━━━━━━━━━━━━━━━━━\u001b[0m\u001b[37m\u001b[0m \u001b[1m0s\u001b[0m 873us/step - accuracy: 0.5975 - loss: 0.7839 - val_accuracy: 0.5511 - val_loss: 0.8254\n",
      "Epoch 9/20\n",
      "\u001b[1m371/371\u001b[0m \u001b[32m━━━━━━━━━━━━━━━━━━━━\u001b[0m\u001b[37m\u001b[0m \u001b[1m0s\u001b[0m 874us/step - accuracy: 0.6078 - loss: 0.7725 - val_accuracy: 0.5555 - val_loss: 0.8338\n",
      "Epoch 10/20\n",
      "\u001b[1m371/371\u001b[0m \u001b[32m━━━━━━━━━━━━━━━━━━━━\u001b[0m\u001b[37m\u001b[0m \u001b[1m0s\u001b[0m 873us/step - accuracy: 0.6072 - loss: 0.7771 - val_accuracy: 0.5527 - val_loss: 0.8365\n",
      "Epoch 11/20\n",
      "\u001b[1m371/371\u001b[0m \u001b[32m━━━━━━━━━━━━━━━━━━━━\u001b[0m\u001b[37m\u001b[0m \u001b[1m0s\u001b[0m 874us/step - accuracy: 0.6186 - loss: 0.7573 - val_accuracy: 0.5450 - val_loss: 0.8439\n",
      "Epoch 12/20\n",
      "\u001b[1m371/371\u001b[0m \u001b[32m━━━━━━━━━━━━━━━━━━━━\u001b[0m\u001b[37m\u001b[0m \u001b[1m0s\u001b[0m 941us/step - accuracy: 0.6268 - loss: 0.7519 - val_accuracy: 0.5364 - val_loss: 0.8606\n",
      "Epoch 13/20\n",
      "\u001b[1m371/371\u001b[0m \u001b[32m━━━━━━━━━━━━━━━━━━━━\u001b[0m\u001b[37m\u001b[0m \u001b[1m0s\u001b[0m 879us/step - accuracy: 0.6180 - loss: 0.7515 - val_accuracy: 0.5458 - val_loss: 0.8516\n",
      "Epoch 14/20\n",
      "\u001b[1m371/371\u001b[0m \u001b[32m━━━━━━━━━━━━━━━━━━━━\u001b[0m\u001b[37m\u001b[0m \u001b[1m0s\u001b[0m 908us/step - accuracy: 0.6344 - loss: 0.7410 - val_accuracy: 0.5411 - val_loss: 0.8668\n",
      "Epoch 15/20\n",
      "\u001b[1m371/371\u001b[0m \u001b[32m━━━━━━━━━━━━━━━━━━━━\u001b[0m\u001b[37m\u001b[0m \u001b[1m0s\u001b[0m 857us/step - accuracy: 0.6264 - loss: 0.7475 - val_accuracy: 0.5519 - val_loss: 0.8749\n",
      "Epoch 16/20\n",
      "\u001b[1m371/371\u001b[0m \u001b[32m━━━━━━━━━━━━━━━━━━━━\u001b[0m\u001b[37m\u001b[0m \u001b[1m0s\u001b[0m 907us/step - accuracy: 0.6484 - loss: 0.7159 - val_accuracy: 0.5376 - val_loss: 0.8803\n",
      "Epoch 17/20\n",
      "\u001b[1m371/371\u001b[0m \u001b[32m━━━━━━━━━━━━━━━━━━━━\u001b[0m\u001b[37m\u001b[0m \u001b[1m0s\u001b[0m 846us/step - accuracy: 0.6658 - loss: 0.6987 - val_accuracy: 0.5386 - val_loss: 0.8862\n",
      "Epoch 18/20\n",
      "\u001b[1m371/371\u001b[0m \u001b[32m━━━━━━━━━━━━━━━━━━━━\u001b[0m\u001b[37m\u001b[0m \u001b[1m0s\u001b[0m 859us/step - accuracy: 0.6675 - loss: 0.6981 - val_accuracy: 0.5299 - val_loss: 0.8957\n",
      "Epoch 19/20\n",
      "\u001b[1m371/371\u001b[0m \u001b[32m━━━━━━━━━━━━━━━━━━━━\u001b[0m\u001b[37m\u001b[0m \u001b[1m0s\u001b[0m 856us/step - accuracy: 0.6634 - loss: 0.6963 - val_accuracy: 0.5344 - val_loss: 0.9047\n",
      "Epoch 20/20\n",
      "\u001b[1m371/371\u001b[0m \u001b[32m━━━━━━━━━━━━━━━━━━━━\u001b[0m\u001b[37m\u001b[0m \u001b[1m0s\u001b[0m 858us/step - accuracy: 0.6646 - loss: 0.6910 - val_accuracy: 0.5376 - val_loss: 0.9129\n",
      "\u001b[1m159/159\u001b[0m \u001b[32m━━━━━━━━━━━━━━━━━━━━\u001b[0m\u001b[37m\u001b[0m \u001b[1m0s\u001b[0m 676us/step\n"
     ]
    },
    {
     "data": {
      "text/plain": [
       "'              precision    recall  f1-score   support\\n\\n           0       0.60      0.61      0.60      2591\\n           1       0.50      0.50      0.50      1946\\n           2       0.35      0.31      0.33       547\\n\\n    accuracy                           0.54      5084\\n   macro avg       0.48      0.47      0.48      5084\\nweighted avg       0.53      0.54      0.54      5084\\n'"
      ]
     },
     "execution_count": 6,
     "metadata": {},
     "output_type": "execute_result"
    }
   ],
   "source": [
    "\n",
    "# Separate features and target variable\n",
    "X = df_sql.drop(columns=['Diabetes_binary'])\n",
    "y = df_sql['Diabetes_binary']\n",
    "\n",
    "# Step 3: Normalize features\n",
    "scaler = StandardScaler()\n",
    "X_scaled = scaler.fit_transform(X)\n",
    "\n",
    "# Step 4: One-hot encode the target variable for multiclass classification\n",
    "y_categorical = to_categorical(y, num_classes=3)\n",
    "\n",
    "# Step 5: Train-test split\n",
    "X_train, X_test, y_train, y_test = train_test_split(X_scaled, y_categorical, test_size=0.3, random_state=42)\n",
    "\n",
    "# Step 6: Build the Neural Network\n",
    "model = Sequential([\n",
    "    Dense(128, input_dim=X_train.shape[1], activation='relu'),\n",
    "    Dense(64, activation='relu'),\n",
    "    Dense(32, activation='relu'),\n",
    "    Dense(3, activation='softmax')  # Output layer for 3 classes\n",
    "])\n",
    "\n",
    "# Compile the model\n",
    "model.compile(optimizer=Adam(learning_rate=0.001), loss='categorical_crossentropy', metrics=['accuracy'])\n",
    "\n",
    "# Step 7: Train the Model\n",
    "history = model.fit(X_train, y_train, epochs=20, batch_size=32, validation_data=(X_test, y_test), verbose=1)\n",
    "\n",
    "# Step 8: Evaluate the Model\n",
    "y_pred = model.predict(X_test)\n",
    "y_pred_classes = y_pred.argmax(axis=1)\n",
    "y_test_classes = y_test.argmax(axis=1)\n",
    "\n",
    "# Generate classification report\n",
    "report = classification_report(y_test_classes, y_pred_classes)\n",
    "\n",
    "report\n"
   ]
  },
  {
   "cell_type": "code",
   "execution_count": null,
   "metadata": {},
   "outputs": [],
   "source": []
  }
 ],
 "metadata": {
  "kernelspec": {
   "display_name": "DataViz2",
   "language": "python",
   "name": "python3"
  },
  "language_info": {
   "codemirror_mode": {
    "name": "ipython",
    "version": 3
   },
   "file_extension": ".py",
   "mimetype": "text/x-python",
   "name": "python",
   "nbconvert_exporter": "python",
   "pygments_lexer": "ipython3",
   "version": "3.11.9"
  }
 },
 "nbformat": 4,
 "nbformat_minor": 2
}
