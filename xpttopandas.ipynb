{
 "cells": [
  {
   "cell_type": "code",
   "execution_count": 1,
   "metadata": {},
   "outputs": [],
   "source": [
    "import pandas as pd\n",
    "import pyreadstat\n",
    "\n",
    "file_path = \"LLCP2023.XPT\""
   ]
  },
  {
   "cell_type": "code",
   "execution_count": 2,
   "metadata": {},
   "outputs": [
    {
     "name": "stdout",
     "output_type": "stream",
     "text": [
      "   _STATE  FMONTH        IDATE IMONTH   IDAY    IYEAR  DISPCODE  \\\n",
      "0     1.0     1.0  b'03012023'  b'03'  b'01'  b'2023'    1100.0   \n",
      "1     1.0     1.0  b'01062023'  b'01'  b'06'  b'2023'    1100.0   \n",
      "2     1.0     1.0  b'03082023'  b'03'  b'08'  b'2023'    1100.0   \n",
      "3     1.0     1.0  b'03062023'  b'03'  b'06'  b'2023'    1100.0   \n",
      "4     1.0     1.0  b'01062023'  b'01'  b'06'  b'2023'    1100.0   \n",
      "\n",
      "           SEQNO          _PSU  CTELENM1  ...      DROCDY4_  _RFBING6  \\\n",
      "0  b'2023000001'  2.023000e+09       1.0  ...  5.397605e-79       1.0   \n",
      "1  b'2023000002'  2.023000e+09       1.0  ...  5.397605e-79       1.0   \n",
      "2  b'2023000003'  2.023000e+09       1.0  ...  5.397605e-79       1.0   \n",
      "3  b'2023000004'  2.023000e+09       1.0  ...  5.397605e-79       1.0   \n",
      "4  b'2023000005'  2.023000e+09       1.0  ...  7.000000e+00       1.0   \n",
      "\n",
      "       _DRNKWK2  _RFDRHV8  _FLSHOT7  _PNEUMO3  _AIDTST4  _RFSEAT2  _RFSEAT3  \\\n",
      "0  5.397605e-79       1.0       2.0       2.0       2.0       1.0       1.0   \n",
      "1  5.397605e-79       1.0       1.0       1.0       2.0       1.0       1.0   \n",
      "2  5.397605e-79       1.0       1.0       1.0       2.0       1.0       1.0   \n",
      "3  5.397605e-79       1.0       1.0       1.0       1.0       1.0       1.0   \n",
      "4  4.700000e+01       1.0       2.0       1.0       2.0       1.0       1.0   \n",
      "\n",
      "   _DRNKDRV  \n",
      "0       9.0  \n",
      "1       9.0  \n",
      "2       9.0  \n",
      "3       9.0  \n",
      "4       2.0  \n",
      "\n",
      "[5 rows x 350 columns]\n"
     ]
    }
   ],
   "source": [
    "# Read the .xpt file\n",
    "df = pd.read_sas(file_path, format=\"xport\")\n",
    "\n",
    "# Display the DataFrame\n",
    "print(df.head())\n",
    "\n",
    "# Save to CSV (optional)\n",
    "df.to_csv(\"brfss_2023.csv\", index=False)"
   ]
  },
  {
   "cell_type": "code",
   "execution_count": null,
   "metadata": {},
   "outputs": [],
   "source": []
  }
 ],
 "metadata": {
  "kernelspec": {
   "display_name": "DataViz2",
   "language": "python",
   "name": "python3"
  },
  "language_info": {
   "codemirror_mode": {
    "name": "ipython",
    "version": 3
   },
   "file_extension": ".py",
   "mimetype": "text/x-python",
   "name": "python",
   "nbconvert_exporter": "python",
   "pygments_lexer": "ipython3",
   "version": "3.11.9"
  }
 },
 "nbformat": 4,
 "nbformat_minor": 2
}
